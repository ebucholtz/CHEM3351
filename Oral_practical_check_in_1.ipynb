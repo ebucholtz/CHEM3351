{
 "cells": [
  {
   "cell_type": "markdown",
   "id": "eaad64ef",
   "metadata": {},
   "source": [
    "# Week 4 Oral Practical Check in"
   ]
  },
  {
   "cell_type": "markdown",
   "id": "373227e4",
   "metadata": {},
   "source": [
    "## Python basics\n",
    "\n",
    "- What is a variable?\n",
    "- What are the three main data types used in python? \n",
    "- What function is used to identify data types?\n",
    "- What is concatenation? Which data types can be concatenated?\n",
    "\n"
   ]
  },
  {
   "cell_type": "code",
   "execution_count": null,
   "id": "54008389",
   "metadata": {},
   "outputs": [],
   "source": [
    "# write code to concatenate two strings, 'Hello' and 'World', with a space in between,\n",
    "# and assign the result to a variable named 'message'. Then print 'message' to the console,\n",
    "# then print the data data type of 'message'.\n"
   ]
  },
  {
   "cell_type": "markdown",
   "id": "f2535555",
   "metadata": {},
   "source": [
    "What are the 4 main types of python data structures?\n",
    "What will the output be of the following code cell?\n",
    "What data structure is being used?\n",
    "What happens if 5054 isn't in quotes?"
   ]
  },
  {
   "cell_type": "code",
   "execution_count": null,
   "id": "bf21f9b8",
   "metadata": {},
   "outputs": [],
   "source": [
    "data = [\"https://pubchem.ncbi.nlm.nih.gov\", \"compound\", \"5054\"]\n",
    "url = \"/\".join(data)\n",
    "print(url)"
   ]
  },
  {
   "cell_type": "markdown",
   "id": "e8e3e917",
   "metadata": {},
   "source": [
    "What is the output of these code lines?"
   ]
  },
  {
   "cell_type": "code",
   "execution_count": null,
   "id": "6b28fc58",
   "metadata": {},
   "outputs": [],
   "source": [
    "print(data[-1])\n",
    "print(len(data))\n",
    "print(len(data[-1]))"
   ]
  },
  {
   "cell_type": "markdown",
   "id": "46f97ed4",
   "metadata": {},
   "source": [
    "- What is the expected output of the following code cell?\n",
    "- Why does this code generate errors?\n",
    "- Fix the errors"
   ]
  },
  {
   "cell_type": "code",
   "execution_count": null,
   "id": "04e2b23f",
   "metadata": {},
   "outputs": [],
   "source": [
    "newdata = [\"1\",\"2\",3,4,\"5\"]\n",
    "for item in newdata;\n",
    "print(item*4)\n",
    "       \n"
   ]
  },
  {
   "cell_type": "markdown",
   "id": "f5a5fb6c",
   "metadata": {},
   "source": [
    "Explain the following code cell"
   ]
  },
  {
   "cell_type": "code",
   "execution_count": null,
   "id": "75f27451",
   "metadata": {},
   "outputs": [],
   "source": [
    "newdata = [\"1\",\"2\",3,4,\"5\"]\n",
    "for item in newdata:\n",
    "    if type(item) == int:\n",
    "        print(item*4)\n",
    "    else:\n",
    "        print(int(item)*4)"
   ]
  },
  {
   "cell_type": "markdown",
   "id": "b9fe063c",
   "metadata": {},
   "source": [
    "# Python Intermediate\n",
    "\n",
    " - What is the difference between a list, a tuple, a set, and a dictionary in Python?\n",
    " - What is meant by mutable or immutable objects?\n",
    " - What is meant by indexed objects?\n",
    " - When would you see a NameError error type?\n",
    " - What is the difference between a module and a method?\n"
   ]
  },
  {
   "cell_type": "code",
   "execution_count": null,
   "id": "4e23f002",
   "metadata": {},
   "outputs": [],
   "source": []
  },
  {
   "cell_type": "markdown",
   "id": "2797fd41",
   "metadata": {},
   "source": [
    "# PUG-REST\n",
    "\n",
    "- Why is it important to limit your request rate to 5 requests per second from PubChem?\n",
    "- Explain the following code cell"
   ]
  },
  {
   "cell_type": "code",
   "execution_count": null,
   "id": "493a1c67",
   "metadata": {},
   "outputs": [],
   "source": [
    "import random, requests, time\n",
    "\n",
    "CIDS = []\n",
    "for i in range(10):\n",
    "    CIDS.append(random.randint(1,1000000))\n",
    "\n",
    "pugrest = \"https://pubchem.ncbi.nlm.nih.gov/rest/pug\"\n",
    "pugoper = \"property/MolecularFormula\"\n",
    "pugout  = \"txt\"\n",
    "\n",
    "for i in range(len(CIDS)):\n",
    "\n",
    "    pugin = \"compound/cid/\" + str(CIDS[i])\n",
    "\n",
    "    url = \"/\".join( [pugrest, pugin, pugoper, pugout] )\n",
    "    res = requests.get(url)\n",
    "    print(CIDS[i], \":\", res.text)\n",
    "\n",
    "    time.sleep(0.2) "
   ]
  },
  {
   "cell_type": "markdown",
   "id": "a37b4a88",
   "metadata": {},
   "source": [
    "Use VS code and Github copilot to generate code that\n",
    "\n",
    "- Generate 100 random CIDS as a list\n",
    "- Obtains the molecular weight, molecular formula, XLogP and hydrogen bond donor count for the 10 random CIDS from PubChem request as a csv output\n",
    "- Reads the data into a dataframe\n",
    "- sorts the data by increaseing molecular weight\n",
    "- prints the dataframe"
   ]
  },
  {
   "cell_type": "code",
   "execution_count": null,
   "id": "ba298910",
   "metadata": {},
   "outputs": [],
   "source": []
  },
  {
   "cell_type": "code",
   "execution_count": null,
   "id": "05962ac2",
   "metadata": {},
   "outputs": [],
   "source": []
  }
 ],
 "metadata": {
  "kernelspec": {
   "display_name": "CHEM3351",
   "language": "python",
   "name": "python3"
  },
  "language_info": {
   "codemirror_mode": {
    "name": "ipython",
    "version": 3
   },
   "file_extension": ".py",
   "mimetype": "text/x-python",
   "name": "python",
   "nbconvert_exporter": "python",
   "pygments_lexer": "ipython3",
   "version": "3.13.5"
  }
 },
 "nbformat": 4,
 "nbformat_minor": 5
}
